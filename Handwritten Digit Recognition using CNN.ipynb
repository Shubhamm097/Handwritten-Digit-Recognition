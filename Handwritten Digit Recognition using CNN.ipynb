{
 "cells": [
  {
   "cell_type": "code",
   "execution_count": 66,
   "metadata": {},
   "outputs": [],
   "source": [
    "import torch\n",
    "import torch.nn as nn\n",
    "import torchvision.transforms as transforms\n",
    "import torchvision.datasets as datasets\n",
    "import matplotlib.pyplot as plt"
   ]
  },
  {
   "cell_type": "code",
   "execution_count": 67,
   "metadata": {},
   "outputs": [],
   "source": [
    "mean_gray = 0.1307\n",
    "stddev_gray = 0.3081"
   ]
  },
  {
   "cell_type": "code",
   "execution_count": 68,
   "metadata": {},
   "outputs": [],
   "source": [
    "# input[channel] = (input[channel] - mean[channel]) / std[channel]\n",
    "# Normalize the image\n",
    "transforms = transforms.Compose([transforms.ToTensor(), \n",
    "                                transforms.Normalize((mean_gray,), (stddev_gray,))])"
   ]
  },
  {
   "cell_type": "code",
   "execution_count": 69,
   "metadata": {},
   "outputs": [],
   "source": [
    "train_dataset = datasets.MNIST(root = './data',\n",
    "                              train = True,\n",
    "                              transform = transforms,\n",
    "                              download = False)\n",
    "\n",
    "test_dataset = datasets.MNIST(root = './data',\n",
    "                              train = False,\n",
    "                              transform = transforms)"
   ]
  },
  {
   "cell_type": "code",
   "execution_count": 70,
   "metadata": {},
   "outputs": [
    {
     "data": {
      "text/plain": [
       "1"
      ]
     },
     "execution_count": 70,
     "metadata": {},
     "output_type": "execute_result"
    },
    {
     "data": {
      "image/png": "[encoded data removed]",
      "text/plain": [
       "<Figure size 432x288 with 1 Axes>"
      ]
     },
     "metadata": {
      "needs_background": "light"
     },
     "output_type": "display_data"
    }
   ],
   "source": [
    "# Denormalizing for visualizing\n",
    "random_img = train_dataset[201][0].numpy() * stddev_gray + mean_gray\n",
    "label = train_dataset[201][1]\n",
    "plt.imshow(random_img.reshape(28,28), cmap = 'gray')\n",
    "label"
   ]
  },
  {
   "cell_type": "code",
   "execution_count": 71,
   "metadata": {},
   "outputs": [
    {
     "data": {
      "text/plain": [
       "Dataset MNIST\n",
       "    Number of datapoints: 60000\n",
       "    Root location: ./data\n",
       "    Split: Train\n",
       "    StandardTransform\n",
       "Transform: Compose(\n",
       "               ToTensor()\n",
       "               Normalize(mean=(0.1307,), std=(0.3081,))\n",
       "           )"
      ]
     },
     "execution_count": 71,
     "metadata": {},
     "output_type": "execute_result"
    }
   ],
   "source": [
    "train_dataset"
   ]
  },
  {
   "cell_type": "code",
   "execution_count": 72,
   "metadata": {},
   "outputs": [
    {
     "data": {
      "text/plain": [
       "5"
      ]
     },
     "execution_count": 72,
     "metadata": {},
     "output_type": "execute_result"
    }
   ],
   "source": [
    "train_dataset[0][1]"
   ]
  },
  {
   "cell_type": "code",
   "execution_count": 73,
   "metadata": {},
   "outputs": [],
   "source": [
    "batch_size = 100"
   ]
  },
  {
   "cell_type": "code",
   "execution_count": 74,
   "metadata": {},
   "outputs": [],
   "source": [
    "train_load = torch.utils.data.DataLoader(dataset = train_dataset,\n",
    "                                        batch_size = batch_size,\n",
    "                                        shuffle = True)\n",
    "\n",
    "test_load = torch.utils.data.DataLoader(dataset = test_dataset,\n",
    "                                       batch_size = batch_size,\n",
    "                                       shuffle = False)"
   ]
  },
  {
   "cell_type": "code",
   "execution_count": 75,
   "metadata": {},
   "outputs": [
    {
     "data": {
      "text/plain": [
       "600"
      ]
     },
     "execution_count": 75,
     "metadata": {},
     "output_type": "execute_result"
    }
   ],
   "source": [
    "len(train_load) # Each batch size"
   ]
  },
  {
   "cell_type": "code",
   "execution_count": 76,
   "metadata": {},
   "outputs": [
    {
     "data": {
      "text/plain": [
       "100"
      ]
     },
     "execution_count": 76,
     "metadata": {},
     "output_type": "execute_result"
    }
   ],
   "source": [
    "len(test_load)"
   ]
  },
  {
   "cell_type": "code",
   "execution_count": 36,
   "metadata": {},
   "outputs": [],
   "source": [
    "class CNN(nn.Module):\n",
    "    def __init__(self):\n",
    "        super(CNN, self).__init__()\n",
    "        self.cnn1 = nn.Conv2d(in_channels=1, out_channels=8, kernel_size=3, stride=1, padding=1)\n",
    "        self.batchnorm1 = nn.BatchNorm2d(8)\n",
    "        self.relu = nn.ReLU()\n",
    "        self.maxpool = nn.MaxPool2d(kernel_size=2)\n",
    "        self.cnn2 = nn.Conv2d(in_channels=8, out_channels=32, kernel_size=5, stride=1, padding=2)\n",
    "        self.batchnorm2 = nn.BatchNorm2d(32)\n",
    "        self.fc1 = nn.Linear(1568, 600)\n",
    "        self.dropout = nn.Dropout(0.5)\n",
    "        self.fc2 = nn.Linear(600, 10)\n",
    "        \n",
    "    def forward(self, x):\n",
    "        out = self.cnn1(x)\n",
    "        out = self.batchnorm1(out)\n",
    "        out = self.relu(out)\n",
    "        out = self.maxpool(out)\n",
    "        \n",
    "        out = self.cnn2(out)\n",
    "        out = self.batchnorm2(out)\n",
    "        out = self.relu(out)\n",
    "        out = self.maxpool(out)\n",
    "        \n",
    "        out = out.view(-1, 1568)\n",
    "        \n",
    "        out = self.fc1(out)\n",
    "        out = self.relu(out)\n",
    "        \n",
    "        out = self.dropout(out)\n",
    "        \n",
    "        out = self.fc2(out)\n",
    "        return out"
   ]
  },
  {
   "cell_type": "code",
   "execution_count": 37,
   "metadata": {},
   "outputs": [],
   "source": [
    "model = CNN()\n",
    "loss_fn = nn.CrossEntropyLoss()\n",
    "optimizer = torch.optim.Adam(model.parameters(), lr = 0.01)"
   ]
  },
  {
   "cell_type": "code",
   "execution_count": 38,
   "metadata": {},
   "outputs": [
    {
     "data": {
      "text/plain": [
       "<bound method Module.parameters of CNN(\n",
       "  (cnn1): Conv2d(1, 8, kernel_size=(3, 3), stride=(1, 1), padding=(1, 1))\n",
       "  (batchnorm1): BatchNorm2d(8, eps=1e-05, momentum=0.1, affine=True, track_running_stats=True)\n",
       "  (relu): ReLU()\n",
       "  (maxpool): MaxPool2d(kernel_size=2, stride=2, padding=0, dilation=1, ceil_mode=False)\n",
       "  (cnn2): Conv2d(8, 32, kernel_size=(5, 5), stride=(1, 1), padding=(2, 2))\n",
       "  (batchnorm2): BatchNorm2d(32, eps=1e-05, momentum=0.1, affine=True, track_running_stats=True)\n",
       "  (fc1): Linear(in_features=1568, out_features=600, bias=True)\n",
       "  (dropout): Dropout(p=0.5, inplace=False)\n",
       "  (fc2): Linear(in_features=600, out_features=10, bias=True)\n",
       ")>"
      ]
     },
     "execution_count": 38,
     "metadata": {},
     "output_type": "execute_result"
    }
   ],
   "source": [
    "model.parameters"
   ]
  },
  {
   "cell_type": "code",
   "execution_count": 40,
   "metadata": {},
   "outputs": [
    {
     "name": "stdout",
     "output_type": "stream",
     "text": [
      "Input Shape:  torch.Size([100, 1, 28, 28])\n",
      "Labels Shape:  torch.Size([100])\n",
      "Outputs Shape:  torch.Size([100, 10])\n",
      "Predicted Shape:  torch.Size([100])\n",
      "Predicted Tensor: \n",
      "tensor([4, 4, 2, 5, 5, 5, 4, 5, 4, 5, 4, 1, 9, 2, 4, 2, 4, 2, 3, 4, 5, 4, 4, 4,\n",
      "        4, 4, 4, 4, 5, 2, 4, 4, 2, 0, 4, 0, 2, 4, 4, 5, 4, 5, 5, 1, 4, 4, 5, 5,\n",
      "        4, 5, 2, 4, 4, 4, 2, 4, 5, 5, 4, 2, 5, 4, 4, 4, 4, 4, 4, 4, 5, 4, 6, 2,\n",
      "        2, 4, 2, 2, 5, 4, 4, 4, 2, 5, 4, 2, 5, 5, 9, 2, 4, 4, 4, 6, 4, 5, 4, 4,\n",
      "        9, 4, 9, 8])\n"
     ]
    }
   ],
   "source": [
    "iteration = 0\n",
    "correct = 0\n",
    "\n",
    "for i, (inputs, labels) in enumerate(train_load):\n",
    "    print(\"Input Shape: \", inputs.shape)\n",
    "    print(\"Labels Shape: \", labels.shape)\n",
    "    \n",
    "    outputs = model(inputs)\n",
    "    \n",
    "    print(\"Outputs Shape: \", outputs.shape)\n",
    "    \n",
    "    _, predicted = torch.max(output, 1)\n",
    "    \n",
    "    print(\"Predicted Shape: \", predicted.shape)\n",
    "    print(\"Predicted Tensor: \")\n",
    "    print(predicted)\n",
    "    \n",
    "    correct += (predicted == labels).sum()\n",
    "    break"
   ]
  },
  {
   "cell_type": "code",
   "execution_count": 48,
   "metadata": {},
   "outputs": [
    {
     "name": "stdout",
     "output_type": "stream",
     "text": [
      "Epoch 1/10, Training Loss: 0.078, Training Accuracy: 97.755, Testing Loss: 0.043, Testing Accuracy: 98.870\n",
      "Epoch 2/10, Training Loss: 0.068, Training Accuracy: 98.092, Testing Loss: 0.044, Testing Accuracy: 98.770\n",
      "Epoch 3/10, Training Loss: 0.065, Training Accuracy: 98.168, Testing Loss: 0.054, Testing Accuracy: 98.600\n",
      "Epoch 4/10, Training Loss: 0.061, Training Accuracy: 98.297, Testing Loss: 0.046, Testing Accuracy: 98.790\n",
      "Epoch 5/10, Training Loss: 0.060, Training Accuracy: 98.317, Testing Loss: 0.042, Testing Accuracy: 99.000\n",
      "Epoch 6/10, Training Loss: 0.056, Training Accuracy: 98.473, Testing Loss: 0.040, Testing Accuracy: 98.950\n",
      "Epoch 7/10, Training Loss: 0.056, Training Accuracy: 98.450, Testing Loss: 0.038, Testing Accuracy: 98.930\n",
      "Epoch 8/10, Training Loss: 0.051, Training Accuracy: 98.558, Testing Loss: 0.041, Testing Accuracy: 98.980\n",
      "Epoch 9/10, Training Loss: 0.047, Training Accuracy: 98.770, Testing Loss: 0.042, Testing Accuracy: 98.910\n",
      "Epoch 10/10, Training Loss: 0.049, Training Accuracy: 98.648, Testing Loss: 0.060, Testing Accuracy: 98.580\n"
     ]
    }
   ],
   "source": [
    "# Training the CNN\n",
    "\n",
    "epochs = 10\n",
    "train_loss = []\n",
    "train_accuracy = []\n",
    "testing_loss = []\n",
    "test_accuracy = []\n",
    "\n",
    "for epoch in range(epochs):\n",
    "    correct = 0\n",
    "    iterations = 0\n",
    "    iter_loss = 0.0\n",
    "    \n",
    "    model.train() # This is because we have used batchnorm and dropout as they behave differently in test and train\n",
    "    for i, (inputs, labels) in enumerate(train_load):\n",
    "        outputs = model(inputs)\n",
    "        \n",
    "        loss = loss_fn(outputs, labels)\n",
    "        iter_loss += loss.item()\n",
    "        \n",
    "        optimizer.zero_grad()\n",
    "        loss.backward()\n",
    "        optimizer.step()\n",
    "        \n",
    "        _, predicted = torch.max(outputs, 1) # Returns actual value and index\n",
    "        correct += (predicted == labels).sum().item()\n",
    "        \n",
    "        iterations += 1\n",
    "        \n",
    "    train_loss.append(iter_loss/iterations)\n",
    "    train_accuracy.append(100 * correct / len(train_dataset))\n",
    "    \n",
    "#     Testing Phase\n",
    "    test_loss = 0.0\n",
    "    correct = 0\n",
    "    iterations = 0\n",
    "    \n",
    "    model.eval()\n",
    "    for i, (inputs, labels) in  enumerate(test_load):\n",
    "        outputs = model(inputs)\n",
    "        loss = loss_fn(outputs, labels)\n",
    "        test_loss += loss.item()\n",
    "        \n",
    "        _, predicted = torch.max(outputs, 1)\n",
    "        correct += (predicted == labels).sum().item()\n",
    "        iterations += 1\n",
    "    \n",
    "    testing_loss.append(test_loss/iterations)\n",
    "    test_accuracy.append(100 * correct / len(test_dataset))\n",
    "    \n",
    "    print(f\"Epoch {epoch+1}/{epochs}, Training Loss: {train_loss[-1]:.3f}, Training Accuracy: {train_accuracy[-1]:.3f}, Testing Loss: {testing_loss[-1]:.3f}, Testing Accuracy: {test_accuracy[-1]:.3f}\")"
   ]
  },
  {
   "cell_type": "code",
   "execution_count": 49,
   "metadata": {},
   "outputs": [
    {
     "data": {
      "image/png": "[encoded data removed]",
      "text/plain": [
       "<Figure size 720x720 with 1 Axes>"
      ]
     },
     "metadata": {
      "needs_background": "light"
     },
     "output_type": "display_data"
    }
   ],
   "source": [
    "f = plt.figure(figsize = (10, 10))\n",
    "plt.plot(train_loss, label = 'Training Loss')\n",
    "plt.plot(testing_loss, label = \"Testing Loss\")\n",
    "plt.legend()\n",
    "plt.show()"
   ]
  },
  {
   "cell_type": "code",
   "execution_count": 50,
   "metadata": {},
   "outputs": [
    {
     "data": {
      "image/png": "[encoded data removed]",
      "text/plain": [
       "<Figure size 720x720 with 1 Axes>"
      ]
     },
     "metadata": {
      "needs_background": "light"
     },
     "output_type": "display_data"
    }
   ],
   "source": [
    "f = plt.figure(figsize = (10, 10))\n",
    "plt.plot(train_accuracy, label = 'Training Accuracy')\n",
    "plt.plot(test_accuracy, label = \"Testing Accuracy\")\n",
    "plt.legend()\n",
    "plt.show()"
   ]
  },
  {
   "cell_type": "code",
   "execution_count": 64,
   "metadata": {},
   "outputs": [],
   "source": [
    "img = test_dataset[100][0].resize_((1, 1, 28, 28))\n",
    "label = test_dataset[100][1]"
   ]
  },
  {
   "cell_type": "code",
   "execution_count": 65,
   "metadata": {},
   "outputs": [
    {
     "name": "stdout",
     "output_type": "stream",
     "text": [
      "Prediction: 6\n",
      "Label: 6\n"
     ]
    }
   ],
   "source": [
    "model.eval()\n",
    "outputs = model(img)\n",
    "_, prediction = torch.max(outputs, 1)\n",
    "print(f\"Prediction: {prediction.item()}\")\n",
    "print(f\"Label: {label}\")"
   ]
  },
  {
   "cell_type": "code",
   "execution_count": null,
   "metadata": {},
   "outputs": [],
   "source": []
  }
 ],
 "metadata": {
  "kernelspec": {
   "display_name": "Python 3",
   "language": "python",
   "name": "python3"
  },
  "language_info": {
   "codemirror_mode": {
    "name": "ipython",
    "version": 3
   },
   "file_extension": ".py",
   "mimetype": "text/x-python",
   "name": "python",
   "nbconvert_exporter": "python",
   "pygments_lexer": "ipython3",
   "version": "3.7.0"
  }
 },
 "nbformat": 4,
 "nbformat_minor": 4
}
