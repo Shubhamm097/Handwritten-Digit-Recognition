{
 "cells": [
  {
   "cell_type": "code",
   "execution_count": 2,
   "metadata": {},
   "outputs": [],
   "source": [
    "import torch\n",
    "import torch.nn as nn\n",
    "import torchvision.datasets as datasets\n",
    "import torchvision.transforms as transforms\n",
    "from torch.autograd import Variable"
   ]
  },
  {
   "cell_type": "code",
   "execution_count": 5,
   "metadata": {},
   "outputs": [],
   "source": [
    "input_size = 784  # Pixels\n",
    "hidden_size = 400 # input + output / 2\n",
    "out_size = 10\n",
    "epochs = 10\n",
    "batch_size = 100\n",
    "learning_rate = 0.001"
   ]
  },
  {
   "cell_type": "code",
   "execution_count": 6,
   "metadata": {},
   "outputs": [],
   "source": [
    "train_dataset = datasets.MNIST(root='./data2',\n",
    "                              train=True,\n",
    "                              transform=transforms.ToTensor(),\n",
    "                              download=False)\n",
    "\n",
    "test_dataset = datasets.MNIST(root='./data2',\n",
    "                             train=False,\n",
    "                             transform=transforms.ToTensor())"
   ]
  },
  {
   "cell_type": "code",
   "execution_count": 7,
   "metadata": {},
   "outputs": [],
   "source": [
    "train_loader = torch.utils.data.DataLoader(dataset=train_dataset,\n",
    "                                          batch_size=batch_size,\n",
    "                                          shuffle=True)\n",
    "\n",
    "test_loader = torch.utils.data.DataLoader(dataset=test_dataset,\n",
    "                                         batch_size=batch_size,\n",
    "                                         shuffle=False)"
   ]
  },
  {
   "cell_type": "code",
   "execution_count": 19,
   "metadata": {},
   "outputs": [],
   "source": [
    "class Net(nn.Module):\n",
    "    def __init__(self, input_size, hidden_size, out_size):\n",
    "        super(Net, self).__init__()\n",
    "        self.fc1 = nn.Linear(input_size, hidden_size)\n",
    "        self.batchnorm = nn.BatchNorm1d(hidden_size)\n",
    "        self.relu = nn.ReLU()\n",
    "        self.maxpool = nn.MaxPool1d(kernel_size=2)\n",
    "        self.fc2 = nn.Linear(hidden_size, hidden_size)\n",
    "        self.fc3 = nn.Linear(hidden_size, out_size)\n",
    "        \n",
    "    def forward(self, x):\n",
    "        out = self.fc1(x)\n",
    "        out = self.batchnorm(out)\n",
    "        out = self.relu(out)\n",
    "        out = self.fc2(out)\n",
    "        out = self.relu(out)\n",
    "        out = self.fc3(out)\n",
    "        return out"
   ]
  },
  {
   "cell_type": "code",
   "execution_count": 20,
   "metadata": {},
   "outputs": [],
   "source": [
    "net = Net(input_size, hidden_size, out_size)\n",
    "criterion = nn.CrossEntropyLoss()\n",
    "optimizer = torch.optim.Adam(net.parameters(), lr=learning_rate)"
   ]
  },
  {
   "cell_type": "code",
   "execution_count": 21,
   "metadata": {},
   "outputs": [
    {
     "data": {
      "text/plain": [
       "<bound method Module.parameters of Net(\n",
       "  (fc1): Linear(in_features=784, out_features=400, bias=True)\n",
       "  (batchnorm): BatchNorm1d(400, eps=1e-05, momentum=0.1, affine=True, track_running_stats=True)\n",
       "  (relu): ReLU()\n",
       "  (maxpool): MaxPool1d(kernel_size=2, stride=2, padding=0, dilation=1, ceil_mode=False)\n",
       "  (fc2): Linear(in_features=400, out_features=400, bias=True)\n",
       "  (fc3): Linear(in_features=400, out_features=10, bias=True)\n",
       ")>"
      ]
     },
     "execution_count": 21,
     "metadata": {},
     "output_type": "execute_result"
    }
   ],
   "source": [
    "net.parameters"
   ]
  },
  {
   "cell_type": "code",
   "execution_count": null,
   "metadata": {},
   "outputs": [
    {
     "name": "stdout",
     "output_type": "stream",
     "text": [
      "Epoch [1/10], Iteration [100/600], Training Loss: 0.14155535399913788, Training Accuracy: 87.0199966430664%\n",
      "Epoch [1/10], Iteration [200/600], Training Loss: 0.19047187268733978, Training Accuracy: 90.19499969482422%\n",
      "Epoch [1/10], Iteration [300/600], Training Loss: 0.13459190726280212, Training Accuracy: 91.71333312988281%\n",
      "Epoch [1/10], Iteration [400/600], Training Loss: 0.1428428292274475, Training Accuracy: 92.61750030517578%\n",
      "Epoch [1/10], Iteration [500/600], Training Loss: 0.09305428713560104, Training Accuracy: 93.2979965209961%\n",
      "Epoch [1/10], Iteration [600/600], Training Loss: 0.12881779670715332, Training Accuracy: 93.81999969482422%\n",
      "Epoch [2/10], Iteration [100/600], Training Loss: 0.02476913295686245, Training Accuracy: 94.3414306640625%\n",
      "Epoch [2/10], Iteration [200/600], Training Loss: 0.13356433808803558, Training Accuracy: 94.69000244140625%\n",
      "Epoch [2/10], Iteration [300/600], Training Loss: 0.05044255405664444, Training Accuracy: 94.96221923828125%\n",
      "Epoch [2/10], Iteration [400/600], Training Loss: 0.10541954636573792, Training Accuracy: 95.197998046875%\n",
      "Epoch [2/10], Iteration [500/600], Training Loss: 0.12772217392921448, Training Accuracy: 95.38727569580078%\n",
      "Epoch [2/10], Iteration [600/600], Training Loss: 0.019928567111492157, Training Accuracy: 95.54666900634766%\n",
      "Epoch [3/10], Iteration [100/600], Training Loss: 0.02146216481924057, Training Accuracy: 95.76461791992188%\n",
      "Epoch [3/10], Iteration [200/600], Training Loss: 0.05327398329973221, Training Accuracy: 95.93499755859375%\n",
      "Epoch [3/10], Iteration [300/600], Training Loss: 0.047966524958610535, Training Accuracy: 96.08999633789062%\n",
      "Epoch [3/10], Iteration [400/600], Training Loss: 0.053653284907341, Training Accuracy: 96.2125015258789%\n",
      "Epoch [3/10], Iteration [500/600], Training Loss: 0.03913867473602295, Training Accuracy: 96.32646942138672%\n",
      "Epoch [3/10], Iteration [600/600], Training Loss: 0.0339055210351944, Training Accuracy: 96.43000030517578%\n",
      "Epoch [4/10], Iteration [100/600], Training Loss: 0.0342760905623436, Training Accuracy: 96.54947662353516%\n",
      "Epoch [4/10], Iteration [200/600], Training Loss: 0.09699639678001404, Training Accuracy: 96.65750122070312%\n",
      "Epoch [4/10], Iteration [300/600], Training Loss: 0.06072531268000603, Training Accuracy: 96.74857330322266%\n",
      "Epoch [4/10], Iteration [400/600], Training Loss: 0.02227809838950634, Training Accuracy: 96.8390884399414%\n",
      "Epoch [4/10], Iteration [500/600], Training Loss: 0.07401054352521896, Training Accuracy: 96.89826202392578%\n",
      "Epoch [4/10], Iteration [600/600], Training Loss: 0.032322075217962265, Training Accuracy: 96.96583557128906%\n",
      "Epoch [5/10], Iteration [100/600], Training Loss: 0.015607552602887154, Training Accuracy: 97.05719757080078%\n",
      "Epoch [5/10], Iteration [200/600], Training Loss: 0.005787301808595657, Training Accuracy: 97.13653564453125%\n",
      "Epoch [5/10], Iteration [300/600], Training Loss: 0.13115918636322021, Training Accuracy: 97.20370483398438%\n",
      "Epoch [5/10], Iteration [400/600], Training Loss: 0.05773605778813362, Training Accuracy: 97.26000213623047%\n",
      "Epoch [5/10], Iteration [500/600], Training Loss: 0.011283207684755325, Training Accuracy: 97.30690002441406%\n",
      "Epoch [5/10], Iteration [600/600], Training Loss: 0.04594092816114426, Training Accuracy: 97.35366821289062%\n",
      "Epoch [6/10], Iteration [100/600], Training Loss: 0.010451341047883034, Training Accuracy: 97.42096710205078%\n",
      "Epoch [6/10], Iteration [200/600], Training Loss: 0.007223623339086771, Training Accuracy: 97.47593688964844%\n",
      "Epoch [6/10], Iteration [300/600], Training Loss: 0.0035397550091147423, Training Accuracy: 97.52606201171875%\n",
      "Epoch [6/10], Iteration [400/600], Training Loss: 0.012206417508423328, Training Accuracy: 97.5691146850586%\n",
      "Epoch [6/10], Iteration [500/600], Training Loss: 0.017840415239334106, Training Accuracy: 97.60428619384766%\n",
      "Epoch [6/10], Iteration [600/600], Training Loss: 0.11657701432704926, Training Accuracy: 97.64555358886719%\n",
      "Epoch [7/10], Iteration [100/600], Training Loss: 0.012199788354337215, Training Accuracy: 97.69270324707031%\n",
      "Epoch [7/10], Iteration [200/600], Training Loss: 0.047482505440711975, Training Accuracy: 97.73420715332031%\n",
      "Epoch [7/10], Iteration [300/600], Training Loss: 0.0011527393944561481, Training Accuracy: 97.76795196533203%\n",
      "Epoch [7/10], Iteration [400/600], Training Loss: 0.04504130780696869, Training Accuracy: 97.79550170898438%\n",
      "Epoch [7/10], Iteration [500/600], Training Loss: 0.016475331038236618, Training Accuracy: 97.82853698730469%\n",
      "Epoch [7/10], Iteration [600/600], Training Loss: 0.01215680968016386, Training Accuracy: 97.85738372802734%\n",
      "Epoch [8/10], Iteration [100/600], Training Loss: 0.00814931932836771, Training Accuracy: 97.89441680908203%\n",
      "Epoch [8/10], Iteration [200/600], Training Loss: 0.006365714594721794, Training Accuracy: 97.93136596679688%\n",
      "Epoch [8/10], Iteration [300/600], Training Loss: 0.005974742583930492, Training Accuracy: 97.96422576904297%\n",
      "Epoch [8/10], Iteration [400/600], Training Loss: 0.002373984782025218, Training Accuracy: 97.99500274658203%\n",
      "Epoch [8/10], Iteration [500/600], Training Loss: 0.00918484665453434, Training Accuracy: 98.02106475830078%\n",
      "Epoch [8/10], Iteration [600/600], Training Loss: 0.02970387041568756, Training Accuracy: 98.04354095458984%\n",
      "Epoch [9/10], Iteration [100/600], Training Loss: 0.03528597578406334, Training Accuracy: 98.06938934326172%\n",
      "Epoch [9/10], Iteration [200/600], Training Loss: 0.00496791023761034, Training Accuracy: 98.09919738769531%\n",
      "Epoch [9/10], Iteration [300/600], Training Loss: 0.030256349593400955, Training Accuracy: 98.12725830078125%\n",
      "Epoch [9/10], Iteration [400/600], Training Loss: 0.001827665837481618, Training Accuracy: 98.14981079101562%\n"
     ]
    }
   ],
   "source": [
    "# Training the network\n",
    "correct_train = 0\n",
    "total_train = 0\n",
    "for epoch in range(epochs):\n",
    "    for i, (images, labels) in enumerate(train_loader):\n",
    "        images = Variable(images.view(-1, 28*28))\n",
    "        labels = Variable(labels)\n",
    "        \n",
    "        optimizer.zero_grad()\n",
    "        outputs = net(images)\n",
    "        _, predicted = torch.max(outputs.data, 1)\n",
    "        \n",
    "        total_train += labels.size(0)\n",
    "        correct_train += (predicted == labels).sum()\n",
    "        \n",
    "        loss = criterion(outputs, labels)\n",
    "        loss.backward()\n",
    "        \n",
    "        optimizer.step()\n",
    "        \n",
    "        if (i+1) % 100 == 0:\n",
    "            print(f\"Epoch [{epoch+1}/{epochs}], Iteration [{i+1}/{len(train_dataset)//batch_size}], Training Loss: {loss.data}, Training Accuracy: {100*correct_train/total_train}%\")\n",
    "print('DONE TRAINING')"
   ]
  },
  {
   "cell_type": "code",
   "execution_count": 18,
   "metadata": {},
   "outputs": [
    {
     "name": "stdout",
     "output_type": "stream",
     "text": [
      "Test Accuracy: 97.37999725341797 %\n"
     ]
    }
   ],
   "source": [
    "# Testing the network\n",
    "correct = 0\n",
    "total = 0\n",
    "for images, labels in test_loader:\n",
    "    images = Variable(images.view(-1, 28*28))\n",
    "    \n",
    "    outputs = net(images)\n",
    "    \n",
    "    _, predicted = torch.max(outputs.data, 1)\n",
    "    \n",
    "    total += labels.size(0)\n",
    "    correct += (predicted == labels).sum()\n",
    "    \n",
    "print(f\"Test Accuracy: {100*correct/total} %\")"
   ]
  },
  {
   "cell_type": "code",
   "execution_count": null,
   "metadata": {},
   "outputs": [],
   "source": []
  }
 ],
 "metadata": {
  "kernelspec": {
   "display_name": "Python 3",
   "language": "python",
   "name": "python3"
  },
  "language_info": {
   "codemirror_mode": {
    "name": "ipython",
    "version": 3
   },
   "file_extension": ".py",
   "mimetype": "text/x-python",
   "name": "python",
   "nbconvert_exporter": "python",
   "pygments_lexer": "ipython3",
   "version": "3.7.0"
  }
 },
 "nbformat": 4,
 "nbformat_minor": 4
}
